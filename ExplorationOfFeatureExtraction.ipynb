{
 "cells": [
  {
   "cell_type": "code",
   "execution_count": 1,
   "metadata": {},
   "outputs": [
    {
     "name": "stderr",
     "output_type": "stream",
     "text": [
      "/Users/khalilcherif/anaconda3/lib/python3.6/site-packages/h5py/__init__.py:36: FutureWarning: Conversion of the second argument of issubdtype from `float` to `np.floating` is deprecated. In future, it will be treated as `np.float64 == np.dtype(float).type`.\n",
      "  from ._conv import register_converters as _register_converters\n",
      "Using TensorFlow backend.\n"
     ]
    }
   ],
   "source": [
    "import pandas as pd\n",
    "import numpy as np\n",
    "import matplotlib.pyplot as plt\n",
    "import tensorflow as tf\n",
    "import keras\n",
    "\n",
    "import string\n",
    "import re\n",
    "\n",
    "from sklearn.model_selection import train_test_split\n",
    "\n",
    "from imageio import imread\n",
    "\n",
    "from keras.applications import InceptionV3\n",
    "from keras import Model\n",
    "\n",
    "from keras.preprocessing import image\n",
    "from keras.applications.inception_v3 import preprocess_input\n",
    "from keras.models import Sequential\n",
    "\n",
    "import os\n",
    "\n",
    "import pickle\n",
    "\n",
    "from sklearn.decomposition import PCA\n",
    "\n",
    "from network_visualizer import NetworkVisualizer"
   ]
  },
  {
   "cell_type": "markdown",
   "metadata": {},
   "source": [
    "# Exploration of  feature extraction using  InceptionV3 model"
   ]
  },
  {
   "cell_type": "markdown",
   "metadata": {},
   "source": [
    "Our goal is to be able to visualize the activations of neurons during the transform phase of an image to extract the its features using InceptionV3. \n",
    "Ultimately, but not reached for the moment, we would like to reduce the size of the neural network without compromising its ability to transfer the useful information about the image so that the transformation can be made musch faster"
   ]
  },
  {
   "cell_type": "markdown",
   "metadata": {},
   "source": [
    "for the sake of this, we created a customized class NetworkVisualizer  which we will use throughout this notebook. The usage will be explained as we advance in our feature exploration.\n",
    "\n",
    "Of course, this is still to be improved, we are only in our first day of development."
   ]
  },
  {
   "cell_type": "code",
   "execution_count": 2,
   "metadata": {},
   "outputs": [],
   "source": [
    "with open(\"train_imgs.pickle\" , \"rb\") as file:\n",
    "    unpickler = pickle.Unpickler(file)\n",
    "    train_data = unpickler.load()"
   ]
  },
  {
   "cell_type": "code",
   "execution_count": 3,
   "metadata": {},
   "outputs": [
    {
     "data": {
      "text/plain": [
       "'startseq man wearing tuxedo shirt vest and bowtie is kissing another man wearing the same thing on the cheek endseq'"
      ]
     },
     "execution_count": 3,
     "metadata": {},
     "output_type": "execute_result"
    }
   ],
   "source": [
    "test_desc = train_data['133189853_811de6ab2a']['descriptions']\n",
    "test_desc[0]"
   ]
  },
  {
   "cell_type": "code",
   "execution_count": 4,
   "metadata": {},
   "outputs": [],
   "source": [
    "def get_data_of_concept(data , concept):\n",
    "    \n",
    "    # all the descriptions should already be preprocessed\n",
    "    def filter_on(descs , keyword):\n",
    "        for desc in descs:\n",
    "            if keyword in desc:\n",
    "                return True\n",
    "        return False\n",
    "    \n",
    "    return [ value['features'] for key,value in train_data.items() if filter_on( value['descriptions'] , concept ) ]"
   ]
  },
  {
   "cell_type": "code",
   "execution_count": 5,
   "metadata": {},
   "outputs": [],
   "source": [
    "concepts_to_try = [ 'cat' , 'dog' , 'car' , 'flower' , 'walk' ]"
   ]
  },
  {
   "cell_type": "code",
   "execution_count": 6,
   "metadata": {},
   "outputs": [],
   "source": [
    "data = train_data\n",
    "concepts_to_data = dict( [ ( concept , get_data_of_concept( data , concept ) ) for concept in concepts_to_try ] )"
   ]
  },
  {
   "cell_type": "code",
   "execution_count": 7,
   "metadata": {},
   "outputs": [],
   "source": [
    "# Get the InceptionV3 model trained on imagenet data\n",
    "model = InceptionV3(weights='imagenet')\n",
    "# Remove the last layer (output softmax layer) from the inception v3\n",
    "model_new = Model(model.input, model.layers[-2].output)"
   ]
  },
  {
   "cell_type": "code",
   "execution_count": 8,
   "metadata": {},
   "outputs": [],
   "source": [
    "some_cat_data = concepts_to_data['car'][:10]"
   ]
  },
  {
   "cell_type": "code",
   "execution_count": 9,
   "metadata": {},
   "outputs": [],
   "source": [
    "nkviz = NetworkVisualizer( model = model_new )"
   ]
  },
  {
   "cell_type": "code",
   "execution_count": 10,
   "metadata": {},
   "outputs": [],
   "source": [
    "nkviz.compute_statistics( some_cat_data , concepts = ['cat'] , policy = 'update' , layers_names=[layer.name for layer in model_new.layers if 'activation' in layer.name][-2:])"
   ]
  },
  {
   "cell_type": "code",
   "execution_count": 11,
   "metadata": {},
   "outputs": [
    {
     "name": "stdout",
     "output_type": "stream",
     "text": [
      "\t\t\t********** Statistics for layer activation_94**********\n",
      "\n",
      "Number of 'unused' neurons (activation == 0) : 3270 out of 12288\n",
      "percentage of 'unused' neurons : 26.611328125 %\n"
     ]
    },
    {
     "data": {
      "image/png": "[encoded data removed]",
      "text/plain": [
       "<Figure size 216x144 with 1 Axes>"
      ]
     },
     "metadata": {},
     "output_type": "display_data"
    },
    {
     "name": "stdout",
     "output_type": "stream",
     "text": [
      "\n",
      "\n",
      "\n",
      "\n",
      "\t\t\t********** Statistics for layer activation_86**********\n",
      "\n",
      "Number of 'unused' neurons (activation == 0) : 3030 out of 20480\n",
      "percentage of 'unused' neurons : 14.794921875 %\n"
     ]
    },
    {
     "data": {
      "image/png": "[encoded data removed]",
      "text/plain": [
       "<Figure size 216x144 with 1 Axes>"
      ]
     },
     "metadata": {},
     "output_type": "display_data"
    },
    {
     "name": "stdout",
     "output_type": "stream",
     "text": [
      "\n",
      "\n",
      "\n",
      "\n"
     ]
    }
   ],
   "source": [
    "nkviz.print_statistics()"
   ]
  },
  {
   "cell_type": "code",
   "execution_count": 12,
   "metadata": {},
   "outputs": [
    {
     "data": {
      "text/plain": [
       "17450"
      ]
     },
     "execution_count": 12,
     "metadata": {},
     "output_type": "execute_result"
    }
   ],
   "source": [
    "len( nkviz.filter_activation( 'activation_86' , variance_threshold = 0 , min_max_scaler = True ) )"
   ]
  },
  {
   "cell_type": "code",
   "execution_count": 13,
   "metadata": {},
   "outputs": [
    {
     "data": {
      "text/plain": [
       "13966"
      ]
     },
     "execution_count": 13,
     "metadata": {},
     "output_type": "execute_result"
    }
   ],
   "source": [
    "len( nkviz.filter_activation( 'activation_86' , variance_threshold = 0.1 , min_max_scaler = True ) )"
   ]
  },
  {
   "cell_type": "code",
   "execution_count": 14,
   "metadata": {},
   "outputs": [],
   "source": [
    "pca = PCA(n_components=10000)"
   ]
  },
  {
   "cell_type": "code",
   "execution_count": 15,
   "metadata": {},
   "outputs": [
    {
     "data": {
      "text/plain": [
       "(10, 10)"
      ]
     },
     "execution_count": 15,
     "metadata": {},
     "output_type": "execute_result"
    }
   ],
   "source": [
    "nkviz.transform_activation( 'activation_86' , transformer=pca ).shape"
   ]
  },
  {
   "cell_type": "markdown",
   "metadata": {},
   "source": [
    "### Let's try to analyze how our activation layers behave when dealing with only cats and dogs images"
   ]
  },
  {
   "cell_type": "code",
   "execution_count": 16,
   "metadata": {},
   "outputs": [],
   "source": [
    "cat_data = [  np.expand_dims( np.array( image.load_img(f\"dataset/training_set/cats/{img_name}\", target_size=(299, 299)) ) , axis=0 )  for img_name in os.listdir(\"dataset/training_set/cats/\")[:100] ]\n",
    "dog_data = [  np.expand_dims( np.array( image.load_img(f\"dataset/training_set/dogs/{img_name}\", target_size=(299, 299)) ) , axis=0 )  for img_name in os.listdir(\"dataset/training_set/dogs/\")[:100] ]\n"
   ]
  },
  {
   "cell_type": "code",
   "execution_count": 17,
   "metadata": {},
   "outputs": [],
   "source": [
    "#concepts_to_data = {'dog' : dog_data , 'cat' : cat_data}"
   ]
  },
  {
   "cell_type": "markdown",
   "metadata": {},
   "source": [
    "Small modifications should be made, but in the future the class can show statistics for every concept independantly from the others, so different instance for different combinations of concept would no longer be required"
   ]
  },
  {
   "cell_type": "code",
   "execution_count": 18,
   "metadata": {},
   "outputs": [],
   "source": [
    "cat_nkviz = NetworkVisualizer(model_new)\n",
    "dog_nkviz = NetworkVisualizer(model_new)"
   ]
  },
  {
   "cell_type": "code",
   "execution_count": 36,
   "metadata": {},
   "outputs": [],
   "source": [
    "cat_dog_nkviz = NetworkVisualizer(model_new)"
   ]
  },
  {
   "cell_type": "code",
   "execution_count": 19,
   "metadata": {},
   "outputs": [],
   "source": [
    "def batch_generator(data, n_batch=10):\n",
    "    \n",
    "    ret = []\n",
    "    \n",
    "    for d in data:\n",
    "        if len(ret) == n_batch:\n",
    "            yield ret\n",
    "            ret = []\n",
    "        ret.append(d)\n",
    "        \n",
    "    yield ret"
   ]
  },
  {
   "cell_type": "code",
   "execution_count": 20,
   "metadata": {},
   "outputs": [
    {
     "data": {
      "text/plain": [
       "['activation_86', 'activation_94']"
      ]
     },
     "execution_count": 20,
     "metadata": {},
     "output_type": "execute_result"
    }
   ],
   "source": [
    "layers_to_monitor = [layer.name for layer in model_new.layers if 'activation' in layer.name][-2:]\n",
    "layers_to_monitor"
   ]
  },
  {
   "cell_type": "code",
   "execution_count": 21,
   "metadata": {},
   "outputs": [],
   "source": [
    "cat_gen = batch_generator(cat_data)\n",
    "dog_gen = batch_generator(dog_data)"
   ]
  },
  {
   "cell_type": "code",
   "execution_count": 22,
   "metadata": {},
   "outputs": [
    {
     "name": "stdout",
     "output_type": "stream",
     "text": [
      "\t\t\t********** Statistics for layer activation_94**********\n",
      "\n",
      "Number of 'unused' neurons (activation == 0) : 4384 out of 12288\n",
      "percentage of 'unused' neurons : 35.67708333333333 %\n"
     ]
    },
    {
     "data": {
      "image/png": "[encoded data removed]",
      "text/plain": [
       "<Figure size 216x144 with 1 Axes>"
      ]
     },
     "metadata": {},
     "output_type": "display_data"
    },
    {
     "name": "stdout",
     "output_type": "stream",
     "text": [
      "\n",
      "\n",
      "\n",
      "\n",
      "\t\t\t********** Statistics for layer activation_86**********\n",
      "\n",
      "Number of 'unused' neurons (activation == 0) : 4858 out of 20480\n",
      "percentage of 'unused' neurons : 23.720703125 %\n"
     ]
    },
    {
     "data": {
      "image/png": "[encoded data removed]",
      "text/plain": [
       "<Figure size 216x144 with 1 Axes>"
      ]
     },
     "metadata": {},
     "output_type": "display_data"
    },
    {
     "name": "stdout",
     "output_type": "stream",
     "text": [
      "\n",
      "\n",
      "\n",
      "\n"
     ]
    }
   ],
   "source": [
    "cat_nkviz.compute_statistics( next(cat_gen) , concepts=['cat'] , policy='update' , layers_names=layers_to_monitor)\n",
    "cat_nkviz.print_statistics()"
   ]
  },
  {
   "cell_type": "code",
   "execution_count": 23,
   "metadata": {},
   "outputs": [
    {
     "name": "stdout",
     "output_type": "stream",
     "text": [
      "\t\t\t********** Statistics for layer activation_94**********\n",
      "\n",
      "Number of 'unused' neurons (activation == 0) : 3390 out of 12288\n",
      "percentage of 'unused' neurons : 27.587890625 %\n"
     ]
    },
    {
     "data": {
      "image/png": "[encoded data removed]",
      "text/plain": [
       "<Figure size 216x144 with 1 Axes>"
      ]
     },
     "metadata": {},
     "output_type": "display_data"
    },
    {
     "name": "stdout",
     "output_type": "stream",
     "text": [
      "\n",
      "\n",
      "\n",
      "\n",
      "\t\t\t********** Statistics for layer activation_86**********\n",
      "\n",
      "Number of 'unused' neurons (activation == 0) : 3347 out of 20480\n",
      "percentage of 'unused' neurons : 16.3427734375 %\n"
     ]
    },
    {
     "data": {
      "image/png": "[encoded data removed]",
      "text/plain": [
       "<Figure size 216x144 with 1 Axes>"
      ]
     },
     "metadata": {},
     "output_type": "display_data"
    },
    {
     "name": "stdout",
     "output_type": "stream",
     "text": [
      "\n",
      "\n",
      "\n",
      "\n"
     ]
    }
   ],
   "source": [
    "cat_nkviz.compute_statistics( next(cat_gen) , concepts=['cat'] , policy='update' , layers_names=layers_to_monitor)\n",
    "cat_nkviz.print_statistics()"
   ]
  },
  {
   "cell_type": "code",
   "execution_count": 24,
   "metadata": {},
   "outputs": [
    {
     "name": "stdout",
     "output_type": "stream",
     "text": [
      "\t\t\t********** Statistics for layer activation_94**********\n",
      "\n",
      "Number of 'unused' neurons (activation == 0) : 2731 out of 12288\n",
      "percentage of 'unused' neurons : 22.224934895833336 %\n"
     ]
    },
    {
     "data": {
      "image/png": "[encoded data removed]",
      "text/plain": [
       "<Figure size 216x144 with 1 Axes>"
      ]
     },
     "metadata": {},
     "output_type": "display_data"
    },
    {
     "name": "stdout",
     "output_type": "stream",
     "text": [
      "\n",
      "\n",
      "\n",
      "\n",
      "\t\t\t********** Statistics for layer activation_86**********\n",
      "\n",
      "Number of 'unused' neurons (activation == 0) : 2468 out of 20480\n",
      "percentage of 'unused' neurons : 12.05078125 %\n"
     ]
    },
    {
     "data": {
      "image/png": "[encoded data removed]",
      "text/plain": [
       "<Figure size 216x144 with 1 Axes>"
      ]
     },
     "metadata": {},
     "output_type": "display_data"
    },
    {
     "name": "stdout",
     "output_type": "stream",
     "text": [
      "\n",
      "\n",
      "\n",
      "\n"
     ]
    }
   ],
   "source": [
    "cat_nkviz.compute_statistics( next(cat_gen) , concepts=['cat'] , policy='update' , layers_names=layers_to_monitor)\n",
    "cat_nkviz.print_statistics()"
   ]
  },
  {
   "cell_type": "code",
   "execution_count": 25,
   "metadata": {},
   "outputs": [
    {
     "name": "stdout",
     "output_type": "stream",
     "text": [
      "\t\t\t********** Statistics for layer activation_94**********\n",
      "\n",
      "Number of 'unused' neurons (activation == 0) : 2462 out of 12288\n",
      "percentage of 'unused' neurons : 20.035807291666664 %\n"
     ]
    },
    {
     "data": {
      "image/png": "[encoded data removed]",
      "text/plain": [
       "<Figure size 216x144 with 1 Axes>"
      ]
     },
     "metadata": {},
     "output_type": "display_data"
    },
    {
     "name": "stdout",
     "output_type": "stream",
     "text": [
      "\n",
      "\n",
      "\n",
      "\n",
      "\t\t\t********** Statistics for layer activation_86**********\n",
      "\n",
      "Number of 'unused' neurons (activation == 0) : 2117 out of 20480\n",
      "percentage of 'unused' neurons : 10.3369140625 %\n"
     ]
    },
    {
     "data": {
      "image/png": "[encoded data removed]",
      "text/plain": [
       "<Figure size 216x144 with 1 Axes>"
      ]
     },
     "metadata": {},
     "output_type": "display_data"
    },
    {
     "name": "stdout",
     "output_type": "stream",
     "text": [
      "\n",
      "\n",
      "\n",
      "\n"
     ]
    }
   ],
   "source": [
    "cat_nkviz.compute_statistics( next(cat_gen) , concepts=['cat'] , policy='update' , layers_names=layers_to_monitor)\n",
    "cat_nkviz.print_statistics()"
   ]
  },
  {
   "cell_type": "code",
   "execution_count": 26,
   "metadata": {},
   "outputs": [
    {
     "name": "stdout",
     "output_type": "stream",
     "text": [
      "\t\t\t********** Statistics for layer activation_94**********\n",
      "\n",
      "Number of 'unused' neurons (activation == 0) : 2201 out of 12288\n",
      "percentage of 'unused' neurons : 17.911783854166664 %\n"
     ]
    },
    {
     "data": {
      "image/png": "[encoded data removed]",
      "text/plain": [
       "<Figure size 216x144 with 1 Axes>"
      ]
     },
     "metadata": {},
     "output_type": "display_data"
    },
    {
     "name": "stdout",
     "output_type": "stream",
     "text": [
      "\n",
      "\n",
      "\n",
      "\n",
      "\t\t\t********** Statistics for layer activation_86**********\n",
      "\n",
      "Number of 'unused' neurons (activation == 0) : 1815 out of 20480\n",
      "percentage of 'unused' neurons : 8.8623046875 %\n"
     ]
    },
    {
     "data": {
      "image/png": "[encoded data removed]",
      "text/plain": [
       "<Figure size 216x144 with 1 Axes>"
      ]
     },
     "metadata": {},
     "output_type": "display_data"
    },
    {
     "name": "stdout",
     "output_type": "stream",
     "text": [
      "\n",
      "\n",
      "\n",
      "\n"
     ]
    }
   ],
   "source": [
    "cat_nkviz.compute_statistics( next(cat_gen) , concepts=['cat'] , policy='update' , layers_names=layers_to_monitor)\n",
    "cat_nkviz.print_statistics()"
   ]
  },
  {
   "cell_type": "code",
   "execution_count": 27,
   "metadata": {},
   "outputs": [
    {
     "name": "stdout",
     "output_type": "stream",
     "text": [
      "\t\t\t********** Statistics for layer activation_94**********\n",
      "\n",
      "Number of 'unused' neurons (activation == 0) : 2109 out of 12288\n",
      "percentage of 'unused' neurons : 17.1630859375 %\n"
     ]
    },
    {
     "data": {
      "image/png": "[encoded data removed]",
      "text/plain": [
       "<Figure size 216x144 with 1 Axes>"
      ]
     },
     "metadata": {},
     "output_type": "display_data"
    },
    {
     "name": "stdout",
     "output_type": "stream",
     "text": [
      "\n",
      "\n",
      "\n",
      "\n",
      "\t\t\t********** Statistics for layer activation_86**********\n",
      "\n",
      "Number of 'unused' neurons (activation == 0) : 1634 out of 20480\n",
      "percentage of 'unused' neurons : 7.978515625 %\n"
     ]
    },
    {
     "data": {
      "image/png": "[encoded data removed]",
      "text/plain": [
       "<Figure size 216x144 with 1 Axes>"
      ]
     },
     "metadata": {},
     "output_type": "display_data"
    },
    {
     "name": "stdout",
     "output_type": "stream",
     "text": [
      "\n",
      "\n",
      "\n",
      "\n"
     ]
    }
   ],
   "source": [
    "cat_nkviz.compute_statistics( next(cat_gen) , concepts=['cat'] , policy='update' , layers_names=layers_to_monitor)\n",
    "cat_nkviz.print_statistics()"
   ]
  },
  {
   "cell_type": "markdown",
   "metadata": {},
   "source": [
    "It seems like we converged towards the set of neurons that we will use to extract the features of cat images\n",
    "Let's now check if this set of neurons is close to the set of neurons when the dataset is composed of cats and dogs.\n",
    "It should not be the same, but we expect them to be very close since the features to extract from a cat image and a dog image should be quite similar"
   ]
  },
  {
   "cell_type": "markdown",
   "metadata": {},
   "source": [
    "Let's now visualize how this converges for both concepts (cat and dog) for the same layers as before"
   ]
  },
  {
   "cell_type": "code",
   "execution_count": 37,
   "metadata": {},
   "outputs": [],
   "source": [
    "# We divided by 2 n_batch so that the same amout of data is fed to the class at each call\n",
    "cat_gen = batch_generator(cat_data , n_batch=5)\n",
    "dog_gen = batch_generator(dog_data , n_batch=5)"
   ]
  },
  {
   "cell_type": "code",
   "execution_count": 38,
   "metadata": {},
   "outputs": [
    {
     "name": "stdout",
     "output_type": "stream",
     "text": [
      "\t\t\t********** Statistics for layer activation_94**********\n",
      "\n",
      "Number of 'unused' neurons (activation == 0) : 4060 out of 12288\n",
      "percentage of 'unused' neurons : 33.04036458333333 %\n"
     ]
    },
    {
     "data": {
      "image/png": "[encoded data removed]",
      "text/plain": [
       "<Figure size 216x144 with 1 Axes>"
      ]
     },
     "metadata": {},
     "output_type": "display_data"
    },
    {
     "name": "stdout",
     "output_type": "stream",
     "text": [
      "\n",
      "\n",
      "\n",
      "\n",
      "\t\t\t********** Statistics for layer activation_86**********\n",
      "\n",
      "Number of 'unused' neurons (activation == 0) : 4226 out of 20480\n",
      "percentage of 'unused' neurons : 20.634765625 %\n"
     ]
    },
    {
     "data": {
      "image/png": "[encoded data removed]",
      "text/plain": [
       "<Figure size 216x144 with 1 Axes>"
      ]
     },
     "metadata": {},
     "output_type": "display_data"
    },
    {
     "name": "stdout",
     "output_type": "stream",
     "text": [
      "\n",
      "\n",
      "\n",
      "\n"
     ]
    }
   ],
   "source": [
    "cat_dog_nkviz.compute_statistics( next(cat_gen) + next(dog_gen) , concepts=['cat' , 'dog'] , policy='update' , layers_names=layers_to_monitor)\n",
    "cat_dog_nkviz.print_statistics()"
   ]
  },
  {
   "cell_type": "code",
   "execution_count": 39,
   "metadata": {},
   "outputs": [
    {
     "name": "stdout",
     "output_type": "stream",
     "text": [
      "\t\t\t********** Statistics for layer activation_94**********\n",
      "\n",
      "Number of 'unused' neurons (activation == 0) : 3054 out of 12288\n",
      "percentage of 'unused' neurons : 24.853515625 %\n"
     ]
    },
    {
     "data": {
      "image/png": "[encoded data removed]",
      "text/plain": [
       "<Figure size 216x144 with 1 Axes>"
      ]
     },
     "metadata": {},
     "output_type": "display_data"
    },
    {
     "name": "stdout",
     "output_type": "stream",
     "text": [
      "\n",
      "\n",
      "\n",
      "\n",
      "\t\t\t********** Statistics for layer activation_86**********\n",
      "\n",
      "Number of 'unused' neurons (activation == 0) : 2919 out of 20480\n",
      "percentage of 'unused' neurons : 14.252929687499998 %\n"
     ]
    },
    {
     "data": {
      "image/png": "[encoded data removed]",
      "text/plain": [
       "<Figure size 216x144 with 1 Axes>"
      ]
     },
     "metadata": {},
     "output_type": "display_data"
    },
    {
     "name": "stdout",
     "output_type": "stream",
     "text": [
      "\n",
      "\n",
      "\n",
      "\n"
     ]
    }
   ],
   "source": [
    "cat_dog_nkviz.compute_statistics( next(cat_gen) + next(dog_gen) , concepts=['cat' , 'dog'] , policy='update' , layers_names=layers_to_monitor)\n",
    "cat_dog_nkviz.print_statistics()"
   ]
  },
  {
   "cell_type": "code",
   "execution_count": 40,
   "metadata": {},
   "outputs": [
    {
     "name": "stdout",
     "output_type": "stream",
     "text": [
      "\t\t\t********** Statistics for layer activation_94**********\n",
      "\n",
      "Number of 'unused' neurons (activation == 0) : 2686 out of 12288\n",
      "percentage of 'unused' neurons : 21.858723958333336 %\n"
     ]
    },
    {
     "data": {
      "image/png": "[encoded data removed]",
      "text/plain": [
       "<Figure size 216x144 with 1 Axes>"
      ]
     },
     "metadata": {},
     "output_type": "display_data"
    },
    {
     "name": "stdout",
     "output_type": "stream",
     "text": [
      "\n",
      "\n",
      "\n",
      "\n",
      "\t\t\t********** Statistics for layer activation_86**********\n",
      "\n",
      "Number of 'unused' neurons (activation == 0) : 2345 out of 20480\n",
      "percentage of 'unused' neurons : 11.4501953125 %\n"
     ]
    },
    {
     "data": {
      "image/png": "[encoded data removed]",
      "text/plain": [
       "<Figure size 216x144 with 1 Axes>"
      ]
     },
     "metadata": {},
     "output_type": "display_data"
    },
    {
     "name": "stdout",
     "output_type": "stream",
     "text": [
      "\n",
      "\n",
      "\n",
      "\n"
     ]
    }
   ],
   "source": [
    "cat_dog_nkviz.compute_statistics( next(cat_gen) + next(dog_gen) , concepts=['cat' , 'dog'] , policy='update' , layers_names=layers_to_monitor)\n",
    "cat_dog_nkviz.print_statistics()"
   ]
  },
  {
   "cell_type": "code",
   "execution_count": 41,
   "metadata": {},
   "outputs": [
    {
     "name": "stdout",
     "output_type": "stream",
     "text": [
      "\t\t\t********** Statistics for layer activation_94**********\n",
      "\n",
      "Number of 'unused' neurons (activation == 0) : 2457 out of 12288\n",
      "percentage of 'unused' neurons : 19.9951171875 %\n"
     ]
    },
    {
     "data": {
      "image/png": "[encoded data removed]",
      "text/plain": [
       "<Figure size 216x144 with 1 Axes>"
      ]
     },
     "metadata": {},
     "output_type": "display_data"
    },
    {
     "name": "stdout",
     "output_type": "stream",
     "text": [
      "\n",
      "\n",
      "\n",
      "\n",
      "\t\t\t********** Statistics for layer activation_86**********\n",
      "\n",
      "Number of 'unused' neurons (activation == 0) : 1987 out of 20480\n",
      "percentage of 'unused' neurons : 9.7021484375 %\n"
     ]
    },
    {
     "data": {
      "image/png": "[encoded data removed]",
      "text/plain": [
       "<Figure size 216x144 with 1 Axes>"
      ]
     },
     "metadata": {},
     "output_type": "display_data"
    },
    {
     "name": "stdout",
     "output_type": "stream",
     "text": [
      "\n",
      "\n",
      "\n",
      "\n"
     ]
    }
   ],
   "source": [
    "cat_dog_nkviz.compute_statistics( next(cat_gen) + next(dog_gen) , concepts=['cat' , 'dog'] , policy='update' , layers_names=layers_to_monitor)\n",
    "cat_dog_nkviz.print_statistics()"
   ]
  },
  {
   "cell_type": "code",
   "execution_count": 42,
   "metadata": {},
   "outputs": [
    {
     "name": "stdout",
     "output_type": "stream",
     "text": [
      "\t\t\t********** Statistics for layer activation_94**********\n",
      "\n",
      "Number of 'unused' neurons (activation == 0) : 2253 out of 12288\n",
      "percentage of 'unused' neurons : 18.3349609375 %\n"
     ]
    },
    {
     "data": {
      "image/png": "[encoded data removed]",
      "text/plain": [
       "<Figure size 216x144 with 1 Axes>"
      ]
     },
     "metadata": {},
     "output_type": "display_data"
    },
    {
     "name": "stdout",
     "output_type": "stream",
     "text": [
      "\n",
      "\n",
      "\n",
      "\n",
      "\t\t\t********** Statistics for layer activation_86**********\n",
      "\n",
      "Number of 'unused' neurons (activation == 0) : 1716 out of 20480\n",
      "percentage of 'unused' neurons : 8.37890625 %\n"
     ]
    },
    {
     "data": {
      "image/png": "[encoded data removed]",
      "text/plain": [
       "<Figure size 216x144 with 1 Axes>"
      ]
     },
     "metadata": {},
     "output_type": "display_data"
    },
    {
     "name": "stdout",
     "output_type": "stream",
     "text": [
      "\n",
      "\n",
      "\n",
      "\n"
     ]
    }
   ],
   "source": [
    "cat_dog_nkviz.compute_statistics( next(cat_gen) + next(dog_gen) , concepts=['cat' , 'dog'] , policy='update' , layers_names=layers_to_monitor)\n",
    "cat_dog_nkviz.print_statistics()"
   ]
  },
  {
   "cell_type": "code",
   "execution_count": 43,
   "metadata": {},
   "outputs": [
    {
     "name": "stdout",
     "output_type": "stream",
     "text": [
      "\t\t\t********** Statistics for layer activation_94**********\n",
      "\n",
      "Number of 'unused' neurons (activation == 0) : 1916 out of 12288\n",
      "percentage of 'unused' neurons : 15.592447916666666 %\n"
     ]
    },
    {
     "data": {
      "image/png": "[encoded data removed]",
      "text/plain": [
       "<Figure size 216x144 with 1 Axes>"
      ]
     },
     "metadata": {},
     "output_type": "display_data"
    },
    {
     "name": "stdout",
     "output_type": "stream",
     "text": [
      "\n",
      "\n",
      "\n",
      "\n",
      "\t\t\t********** Statistics for layer activation_86**********\n",
      "\n",
      "Number of 'unused' neurons (activation == 0) : 1478 out of 20480\n",
      "percentage of 'unused' neurons : 7.216796875000001 %\n"
     ]
    },
    {
     "data": {
      "image/png": "[encoded data removed]",
      "text/plain": [
       "<Figure size 216x144 with 1 Axes>"
      ]
     },
     "metadata": {},
     "output_type": "display_data"
    },
    {
     "name": "stdout",
     "output_type": "stream",
     "text": [
      "\n",
      "\n",
      "\n",
      "\n"
     ]
    }
   ],
   "source": [
    "cat_dog_nkviz.compute_statistics( next(cat_gen) + next(dog_gen) , concepts=['cat' , 'dog'] , policy='update' , layers_names=layers_to_monitor)\n",
    "cat_dog_nkviz.print_statistics()"
   ]
  },
  {
   "cell_type": "code",
   "execution_count": 48,
   "metadata": {},
   "outputs": [
    {
     "name": "stdout",
     "output_type": "stream",
     "text": [
      "number of cat used_neurons : 18846\n",
      "number of cat_dog used_neurons : 19002\n",
      "number of cat and cat_dog used_neurons : 19331\n"
     ]
    }
   ],
   "source": [
    "cat_used_neurons = set( cat_nkviz.filter_activation( 'activation_86' , variance_threshold = 0 ) )\n",
    "cat_dog_used_neurons = set( cat_dog_nkviz.filter_activation( 'activation_86' , variance_threshold = 0 ) )\n",
    "\n",
    "union = cat_dog_used_neurons.union( cat_used_neurons )\n",
    "\n",
    "print(f'number of cat used_neurons : {len(cat_used_neurons)}')\n",
    "print(f'number of cat_dog used_neurons : {len(cat_dog_used_neurons)}')\n",
    "print(f'number of cat and cat_dog used_neurons : {len(union)}')"
   ]
  },
  {
   "cell_type": "markdown",
   "metadata": {},
   "source": [
    "As we can see, they seem to activate the 'same' neurons, the restriction we used, variance == 0 is too difficult to be always met, if a neuron activates at least once during any predict phase, it will be added to the list of used neurons. A more studied filtering should be able to determine what are the most important neurons for the dataset we are dealing with."
   ]
  },
  {
   "cell_type": "markdown",
   "metadata": {},
   "source": [
    "The goal of this notebook, is to show that during transfer learning, many neurons can be 'dicarded', their value is always 0 during activation. We aim for the future to study better how to make a good filtering and thus maybe reduce the overall size of the neural network for the sake of our work. The model used, InceptionV3 is a huge neural network, transforming 8000 images took over than 4 hours (even on a high end laptop, but no GPU were used). So diminishig the size of the model and being able to transfer the important information from it is a task worth it to spend some time on it."
   ]
  },
  {
   "cell_type": "code",
   "execution_count": null,
   "metadata": {},
   "outputs": [],
   "source": []
  }
 ],
 "metadata": {
  "kernelspec": {
   "display_name": "Python 3",
   "language": "python",
   "name": "python3"
  },
  "language_info": {
   "codemirror_mode": {
    "name": "ipython",
    "version": 3
   },
   "file_extension": ".py",
   "mimetype": "text/x-python",
   "name": "python",
   "nbconvert_exporter": "python",
   "pygments_lexer": "ipython3",
   "version": "3.6.5"
  }
 },
 "nbformat": 4,
 "nbformat_minor": 2
}
